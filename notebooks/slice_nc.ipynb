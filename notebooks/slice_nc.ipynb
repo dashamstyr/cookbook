{
 "metadata": {
  "name": ""
 },
 "nbformat": 3,
 "nbformat_minor": 0,
 "worksheets": [
  {
   "cells": [
    {
     "cell_type": "heading",
     "level": 1,
     "metadata": {},
     "source": [
      "slice_nc example"
     ]
    },
    {
     "cell_type": "markdown",
     "metadata": {},
     "source": [
      "For full instructions, start at\n",
      "\n",
      "http://clouds.eos.ubc.ca/~phil/cookbook_docs"
     ]
    },
    {
     "cell_type": "heading",
     "level": 2,
     "metadata": {},
     "source": [
      "Getting the source code and data"
     ]
    },
    {
     "cell_type": "markdown",
     "metadata": {},
     "source": [
      "To download the netcdf file tos_AMSRE_L3_v7_200206-201012.nc\n",
      "see http://clouds.eos.ubc.ca/~phil/cookbook_docs/get_data.html"
     ]
    },
    {
     "cell_type": "heading",
     "level": 2,
     "metadata": {},
     "source": [
      "Running the example"
     ]
    },
    {
     "cell_type": "markdown",
     "metadata": {},
     "source": [
      "To run slice_nc.py as a python script copy the netcdf file into the cookbook directory \n",
      "  \n",
      "    \n",
      "Then run it from the command line\n",
      "\n",
      "    python slice_nc.py\n",
      "    \n",
      "or start ipython in the cookbook directory and do:\n",
      "\n",
      "    run slice_nc\n",
      "    \n",
      "Running the script loads and runs nose and performs a unit test and a doctest as described\n",
      "in\n",
      "\n",
      "http://clouds.eos.ubc.ca/~phil/cookbook_docs/writing_tests.html\n"
     ]
    },
    {
     "cell_type": "markdown",
     "metadata": {},
     "source": [
      "To run this notebook from the command line:\n",
      "\n",
      "    ipython notebook notebooks/slice_nc.ipynb"
     ]
    },
    {
     "cell_type": "heading",
     "level": 2,
     "metadata": {},
     "source": [
      "Necessary imports"
     ]
    },
    {
     "cell_type": "markdown",
     "metadata": {},
     "source": [
      "We need to import the standard datetime module, a named_tuple defined in constants.py and three functions \n",
      "defined in plot_mercator.py. Since we are in the cooktbook/notebooks directory we need to add\n",
      "cookbook to our sys.path:"
     ]
    },
    {
     "cell_type": "code",
     "collapsed": false,
     "input": [
      "import datetime as dt\n",
      "import site\n",
      "site.addsitedir('..')\n",
      "from constants import warm_pool as wp\n",
      "from slice_nc import get_var_2D, find_index\n",
      "%autoreload 2"
     ],
     "language": "python",
     "metadata": {},
     "outputs": [],
     "prompt_number": 134
    },
    {
     "cell_type": "markdown",
     "metadata": {},
     "source": [
      "The wp tuple contains the lower left, lower right, upper left and upper right corners of a lat-lon box defining the tropical warm pool"
     ]
    },
    {
     "cell_type": "code",
     "collapsed": false,
     "input": [
      "print wp"
     ],
     "language": "python",
     "metadata": {},
     "outputs": [
      {
       "output_type": "stream",
       "stream": "stdout",
       "text": [
        "Box(ll=LonLat(lon=85.0, lat=-10.0), lr=LonLat(lon=160.0, lat=-10.0), ur=LonLat(lon=160.0, lat=15.0), ul=LonLat(lon=85.0, lat=15.0))\n"
       ]
      }
     ],
     "prompt_number": 124
    },
    {
     "cell_type": "code",
     "collapsed": false,
     "input": [
      "print wp.ll.lon, wp.ll.lat"
     ],
     "language": "python",
     "metadata": {},
     "outputs": [
      {
       "output_type": "stream",
       "stream": "stdout",
       "text": [
        "85.0 -10.0\n"
       ]
      }
     ],
     "prompt_number": 125
    },
    {
     "cell_type": "markdown",
     "metadata": {},
     "source": [
      "Here are the functions imported from slice_nc.py:"
     ]
    },
    {
     "cell_type": "code",
     "collapsed": false,
     "input": [
      "help(find_index)"
     ],
     "language": "python",
     "metadata": {},
     "outputs": [
      {
       "output_type": "stream",
       "stream": "stdout",
       "text": [
        "Help on function find_index in module plot_mercator:\n",
        "\n",
        "find_index(vec_vals, target)\n",
        "    returns the first index of vec_vals that contains the value\n",
        "    closest to target.\n",
        "    \n",
        "    Parameters\n",
        "    ----------\n",
        "    \n",
        "    vec_vals: list or 1-d array\n",
        "    target:   list 1-d array or scalar\n",
        "    \n",
        "    \n",
        "    Returns\n",
        "    -------\n",
        "    \n",
        "    list of len(target) containing the index idx such that\n",
        "    vec_vals[idx] is closest to each item in target\n",
        "    \n",
        "    Example\n",
        "    -------\n",
        "    \n",
        "    left_lon,right_lon=find_index(the_lons,[120.,140.])\n",
        "\n"
       ]
      }
     ],
     "prompt_number": 135
    },
    {
     "cell_type": "code",
     "collapsed": false,
     "input": [
      "help(get_var_2D)"
     ],
     "language": "python",
     "metadata": {},
     "outputs": [
      {
       "output_type": "stream",
       "stream": "stdout",
       "text": [
        "Help on function get_var_2D in module plot_mercator:\n",
        "\n",
        "get_var_2D(file_name, var_name, corners=None, start_date=None, stop_date=None, time_name='time', lat_name='lat', lon_name='lon')\n",
        "    Given a netcdf file containing a [time,lat,lon] variable with name\n",
        "    var_name, return a slice with values\n",
        "    [start_date:stop_date,corners.ll.lat:corners.ur.lat,corners.ll.lon:corners.ur.lon]\n",
        "    \n",
        "    Parameters\n",
        "    ----------\n",
        "    \n",
        "    filename: str --  name of netcdf (possible including full path) of netcdf file\n",
        "    varname:  str --  name of [time,lat,lon] netcdf variable (.eg. tos)\n",
        "    corners:  optional, my_namedtuple -- Box object with latlon corner points\n",
        "                 if None, defaults to all lats, all lons\n",
        "    start_date: optional, datetime  -- python datetime object to start slice\n",
        "                 if None, defaults to time index 0\n",
        "    stop_date: optional, datetime  -- python datetime object to end slice\n",
        "                 if None, defaults to last time value\n",
        "    \n",
        "    Returns\n",
        "    -------\n",
        "    \n",
        "    tuple containing:\n",
        "    \n",
        "    data_nc: netCDF4 Dataset\n",
        "    var_nc:  netCDF4 variable\n",
        "    the_times: np.array of datetimes for slice\n",
        "    the_lats: 1-D np.array of latitudes for slice\n",
        "    the_lons: 1_D np.array of longitudes for slice\n",
        "    vararray: 2:D np.array with variable slice\n",
        "    \n",
        "    Example\n",
        "    -------\n",
        "    \n",
        "    in_file='tos_AMSRE_L3_v7_200206-201012.nc'\n",
        "    options=dict(corners=warmpool,start_date=dt.datetime(2003,4,1),stop_date=dt.datetime(2006,3,1))\n",
        "    data_nc,var_nc,the_times,the_lats,the_lons,sst=get_var_2D(in_file,'tos',**options)\n",
        "\n"
       ]
      }
     ],
     "prompt_number": 127
    },
    {
     "cell_type": "heading",
     "level": 2,
     "metadata": {},
     "source": [
      "Getting the slice"
     ]
    },
    {
     "cell_type": "markdown",
     "metadata": {},
     "source": [
      "Now we're ready to extract a slice from the netcdf file:"
     ]
    },
    {
     "cell_type": "code",
     "collapsed": false,
     "input": [
      "in_file='../tos_AMSRE_L3_v7_200206-201012.nc'\n",
      "options=dict(corners=wp,start_date=dt.datetime(2003,4,1),stop_date=dt.datetime(2006,3,1))\n",
      "data_nc,var_nc,the_times,the_lats,the_lons,sst=get_var_2D(in_file,'tos',**options)\n",
      "#\n",
      "# time average to get a lat/lon array\n",
      "#\n",
      "sst_avg=sst.mean(axis=0)\n",
      "\n",
      "print(the_lats.shape)\n",
      "print(the_lons.shape)\n",
      "print(sst_avg.shape)\n"
     ],
     "language": "python",
     "metadata": {},
     "outputs": [
      {
       "output_type": "stream",
       "stream": "stdout",
       "text": [
        "(26,)\n",
        "(76,)\n",
        "(26, 76)\n"
       ]
      }
     ],
     "prompt_number": 129
    },
    {
     "cell_type": "code",
     "collapsed": false,
     "input": [],
     "language": "python",
     "metadata": {},
     "outputs": [],
     "prompt_number": 131
    }
   ],
   "metadata": {}
  }
 ]
}