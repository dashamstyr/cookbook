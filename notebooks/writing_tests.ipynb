{
 "metadata": {
  "name": ""
 },
 "nbformat": 3,
 "nbformat_minor": 0,
 "worksheets": [
  {
   "cells": [
    {
     "cell_type": "heading",
     "level": 1,
     "metadata": {},
     "source": [
      "How to set up a module to run doctests and unit tests with nose"
     ]
    },
    {
     "cell_type": "markdown",
     "metadata": {},
     "source": [
      "For full instructions, start at\n",
      "\n",
      "http://clouds.eos.ubc.ca/~phil/cookbook_docs"
     ]
    },
    {
     "cell_type": "heading",
     "level": 2,
     "metadata": {},
     "source": [
      "Getting the source code and data"
     ]
    },
    {
     "cell_type": "markdown",
     "metadata": {},
     "source": [
      "To download the netcdf file tos_AMSRE_L3_v7_200206-201012.nc\n",
      "see http://clouds.eos.ubc.ca/~phil/cookbook_docs/get_data.html"
     ]
    },
    {
     "cell_type": "heading",
     "level": 2,
     "metadata": {},
     "source": [
      "Running the example"
     ]
    },
    {
     "cell_type": "markdown",
     "metadata": {},
     "source": [
      "To run slice_nc.py as a python script copy the netcdf file into the cookbook directory \n",
      "  \n",
      "    \n",
      "Then run it from the command line\n",
      "\n",
      "    python slice_nc.py\n",
      "    \n",
      "or start ipython in the cookbook directory and do:\n",
      "\n",
      "    run slice_nc\n",
      "    "
     ]
    },
    {
     "cell_type": "markdown",
     "metadata": {},
     "source": [
      "To run this notebook from the command line:\n",
      "\n",
      "    ipython notebook notebooks/writing_tests.ipynb"
     ]
    },
    {
     "cell_type": "heading",
     "level": 2,
     "metadata": {},
     "source": [
      "Writing tests"
     ]
    },
    {
     "cell_type": "markdown",
     "metadata": {},
     "source": [
      "slice_nc.py contains two illustrative tests: a doctest in the find_index function that looks like:  "
     ]
    },
    {
     "cell_type": "raw",
     "metadata": {},
     "source": [
      "    Example\n",
      "    -------\n",
      "\n",
      "    >>> lons=[110,115,120,125,130,135,140]\n",
      "    >>> find_index(lons,[115.4,134.9])\n",
      "    [1, 5]"
     ]
    },
    {
     "cell_type": "markdown",
     "metadata": {},
     "source": [
      "and a unit test that looks like:"
     ]
    },
    {
     "cell_type": "raw",
     "metadata": {},
     "source": [
      "def test_get_var_2D():\n",
      "    from constants import warm_pool as wp\n",
      "    import numpy.testing as nt\n",
      "    in_file='tos_AMSRE_L3_v7_200206-201012.nc'\n",
      "    options=dict(corners=wp,start_date=dt.datetime(2003,4,1),stop_date=dt.datetime(2006,3,1))\n",
      "    data_nc,var_nc,the_times,the_lats,the_lons,sst=get_var_2D(in_file,'tos',**options)\n",
      "    answer=\\\n",
      "      [[[301.8192138671875,301.8794860839844,301.97021484375],\\\n",
      "        [301.93927001953125,302.00830078125,301.9566345214844],\\\n",
      "        [302.3489074707031,302.3004455566406,302.2830810546875]],\\\n",
      "      [[301.0838317871094,301.2699279785156,301.2352600097656],\\\n",
      "        [301.2467956542969,301.4319152832031,301.5067443847656],\\\n",
      "        [301.33978271484375,301.5613708496094,301.6506652832031]],\\\n",
      "      [[301.1455993652344,301.1784973144531,301.1477355957031],\\\n",
      "        [301.22052001953125,301.2091369628906,301.36724853515625],\\\n",
      "        [301.5062255859375,301.5807189941406,301.6601257324219]]]\n",
      "    #\n",
      "    # We need to transform answer into a 3d ndarray so we can\n",
      "    # compare to a slice using np.assert_allclose()\n",
      "    # numpy can only initialize arrays from lists of lists (2d)\n",
      "    # for 3d we need to flatten and reshape\n",
      "    #\n",
      "    flat1d=[]\n",
      "    for item2d in answer:\n",
      "        [flat1d.extend(item) for item in item2d]\n",
      "    answer=np.array(flat1d)\n",
      "    answer=answer.reshape([3,3,3])\n",
      "    \n",
      "    result=sst[:3,:3,:3]\n",
      "    nt.assert_allclose(result,answer)"
     ]
    },
    {
     "cell_type": "markdown",
     "metadata": {},
     "source": [
      "One complication for the unit test is that it isn't possible to pass a triply nested list into\n",
      "np.array and get a 3d array out -- I needed to flatten the list in a loop.  Once I've flattened\n",
      "and reshaped I can compare the slice with my answer using numpy.testing.assert_allclose"
     ]
    },
    {
     "cell_type": "heading",
     "level": 2,
     "metadata": {},
     "source": [
      "Running the tests"
     ]
    },
    {
     "cell_type": "markdown",
     "metadata": {},
     "source": [
      "To run both tests I borrowed the following code from the numpy test suite:"
     ]
    },
    {
     "cell_type": "raw",
     "metadata": {},
     "source": [
      "if __name__==\"__main__\":\n",
      "    #https://nose.readthedocs.org/en/latest/usage.html\n",
      "    #flags -vv verbose\n",
      "    #      -s  don't capture stdout\n",
      "    #      -x  stop after first error\n",
      "    #      --pdb  drop into debugger\n",
      "    #     --with-doctest  look for the doctest in find_index\n",
      "    #     exit=False    keep running (needed to continue ipython\n",
      "    #                   session\n",
      "    nose.runmodule(argv=[__file__,'-vvs','-x','--pdb','--with-doctest'],exit=False)\n"
     ]
    },
    {
     "cell_type": "markdown",
     "metadata": {},
     "source": [
      "This works because __file__ evaluates to slice_nc.py.  With this code in place I run the tests\n",
      "by simply running the module:"
     ]
    },
    {
     "cell_type": "raw",
     "metadata": {},
     "source": [
      "~/repos/cookbook phil@raildisplay% python slice_nc.py\n",
      "nose.config: INFO: Ignoring files matching ['^\\\\.', '^_', '^setup\\\\.py$']\n",
      "__main__.test_get_var_2D ... ok\n",
      "Doctest: slice_nc.__main__.find_index ... ok\n",
      "\n",
      "----------------------------------------------------------------------\n",
      "Ran 2 tests in 0.025s\n",
      "\n",
      "OK\n",
      "~/repos/cookbook phil@raildisplay% run slice_nc.py\n",
      "bash: run: command not found\n",
      "~/repos/cookbook phil@raildisplay% python slice_nc.py\n",
      "nose.config: INFO: Ignoring files matching ['^\\\\.', '^_', '^setup\\\\.py$']\n",
      "__main__.test_get_var_2D ... ok\n",
      "Doctest: slice_nc.__main__.find_index ... ok\n",
      "\n",
      "----------------------------------------------------------------------\n",
      "Ran 2 tests in 0.025s\n",
      "\n",
      "OK\n"
     ]
    },
    {
     "cell_type": "markdown",
     "metadata": {},
     "source": [
      "To see what a failure looks like, change the first SST in answer and rerun:"
     ]
    },
    {
     "cell_type": "raw",
     "metadata": {},
     "source": [
      "~/repos/cookbook phil@raildisplay% python slice_nc.py\n",
      "nose.config: INFO: Ignoring files matching ['^\\\\.', '^_', '^setup\\\\.py$']\n",
      "__main__.test_get_var_2D ... FAIL\n",
      "\n",
      "======================================================================\n",
      "FAIL: __main__.test_get_var_2D\n",
      "-------------------Mb---------------------------------------------------\n",
      "Traceback (most recent call last):\n",
      "  File \"/Users/phil/anaconda/lib/python2.7/site-packages/nose/case.py\", line 197, in runTest\n",
      "    self.test(*self.arg)\n",
      "  File \"slice_nc.py\", line 169, in test_get_var_2D\n",
      "    nt.assert_allclose(result,answer)\n",
      "  File \"/Users/phil/anaconda/lib/python2.7/site-packages/numpy/testing/utils.py\", line 1179, in assert_allclose\n",
      "    verbose=verbose, header=header)\n",
      "  File \"/Users/phil/anaconda/lib/python2.7/site-packages/numpy/testing/utils.py\", line 645, in assert_array_compare\n",
      "    raise AssertionError(msg)\n",
      "AssertionError: \n",
      "Not equal to tolerance rtol=1e-07, atol=0\n",
      "\n",
      "(mismatch 100.0%)\n",
      " x: masked_array(data =\n",
      " [[[301.8192138671875 301.8794860839844 301.97021484375]\n",
      "  [301.93927001953125 302.00830078125 301.9566345214844]...\n",
      " y: array([[[ 302.81921387,  301.87948608,  301.97021484],\n",
      "        [ 301.93927002,  302.00830078,  301.95663452],\n",
      "        [ 302.34890747,  302.30044556,  302.28308105]],...\n",
      "\n",
      "----------------------------------------------------------------------\n",
      "Ran 1 test in 0.026s\n",
      "\n",
      "FAILED (failures=1)\n"
     ]
    },
    {
     "cell_type": "heading",
     "level": 2,
     "metadata": {},
     "source": [
      "Pro tip"
     ]
    },
    {
     "cell_type": "markdown",
     "metadata": {},
     "source": [
      "Writing doctests in IPython is much easier if you turn on doctest_mode"
     ]
    },
    {
     "cell_type": "raw",
     "metadata": {},
     "source": [
      "In [213]: a=[1,2,3]\n",
      "\n",
      "In [214]: doctest_mode\n",
      "Exception reporting mode: Plain\n",
      "Doctest mode is: ON\n",
      ">>> a=[1,2,3]\n",
      ">>> doctest_mode\n",
      "Exception reporting mode: Context\n",
      "Doctest mode is: OFF\n"
     ]
    }
   ],
   "metadata": {}
  }
 ]
}